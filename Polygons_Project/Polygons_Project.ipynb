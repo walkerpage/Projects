{
 "cells": [
  {
   "cell_type": "markdown",
   "metadata": {},
   "source": [
    "### Project"
   ]
  },
  {
   "cell_type": "markdown",
   "metadata": {},
   "source": [
    "In this project you are asked to create a sequence type that will return a series of (regular convex) Polygon objects.\n",
    "\n",
    "Each polygon will be uniquely be defined by:\n",
    "* it is a regular convex polygon:\n",
    "    * edges (sides) are all of equal length\n",
    "    * angles between edges are all equal\n",
    "* the center of the polygon is `(0,0)`\n",
    "* the number of vertices (minimum `3`)\n",
    "* the distance from the center to any vertex should be `R` unit (this is sometimes described as the polygon having a *circumradius* of `R`)\n",
    "\n",
    "The sequence should be finite - so creating an instance of this sequence will require the passing in the number of polygons in the sequence to the initializer.\n",
    "\n",
    "The Polygon objects should be immutable, as should the sequence itself."
   ]
  },
  {
   "cell_type": "markdown",
   "metadata": {},
   "source": [
    "In addition, each Polygon should have the following properties:\n",
    "* number of vertices\n",
    "* number of edges (sides)\n",
    "* the edge length\n",
    "* the apothem (distance from center to mid-point of any edge)\n",
    "* surface area\n",
    "* perimeter\n",
    "* interior angle (angle between each edge) - in degrees\n",
    "* supports equality based on # edges and circumradius\n",
    "* supports ordering based on number of edges only"
   ]
  },
  {
   "cell_type": "markdown",
   "metadata": {},
   "source": [
    "The sequence object should also have the following properties:\n",
    "\n",
    "* should support fully-featured slicing and indexing (positive indices, negative indices, slicing, and extended slicing)\n",
    "* should support the `length()` function\n",
    "* should provide the polygon with the highest `area:perimeter` ratio"
   ]
  },
  {
   "cell_type": "markdown",
   "metadata": {},
   "source": [
    "You will need to do a little bit of math for this project. The necessary formulas are included in the video."
   ]
  },
  {
   "cell_type": "markdown",
   "metadata": {},
   "source": [
    "##### Goal 1"
   ]
  },
  {
   "cell_type": "markdown",
   "metadata": {},
   "source": [
    "Create a Polygon class with the properties defined above. The initializer for the class will need the number of vertices (or edges, same), and the circumradius (`R`).\n",
    "\n",
    "Make sure you test all your methods and properties. (This is called unit testing)"
   ]
  },
  {
   "cell_type": "code",
   "execution_count": 1,
   "metadata": {},
   "outputs": [],
   "source": [
    "import math"
   ]
  },
  {
   "cell_type": "code",
   "execution_count": 2,
   "metadata": {},
   "outputs": [],
   "source": [
    "class Polygon:\n",
    "\n",
    "    def __init__(self, n_vertices, circumradius):\n",
    "        if n_vertices >= 3:\n",
    "            self.n_vertices = n_vertices\n",
    "            self.n_edges = self.n_vertices\n",
    "            self.circumradius = circumradius\n",
    "        else:\n",
    "            raise ValueError('The number of vertices must be at least 3.')\n",
    "\n",
    "    def __repr__(self):\n",
    "        return f'Polygon(n_vertices={self.n_vertices}, circumradius={self.circumradius})'\n",
    "\n",
    "    def edge_len(self):\n",
    "        edge_len = (2 \n",
    "                    * self.circumradius \n",
    "                    * math.sin(math.pi / self.n_vertices))\n",
    "        return edge_len\n",
    "    \n",
    "    def apothem(self):\n",
    "        apothem = (self.circumradius\n",
    "                   * math.cos(math.pi / self.n_vertices))\n",
    "        return apothem\n",
    "    \n",
    "    def surface_area(self):\n",
    "        surface_area = (0.5\n",
    "                        * self.n_vertices\n",
    "                        * self.edge_len()\n",
    "                        * self.apothem())\n",
    "        return surface_area\n",
    "    \n",
    "    def perimeter(self):\n",
    "        return self.n_vertices * self.edge_len()\n",
    "    \n",
    "    def interior_angle(self):\n",
    "        interior_angle = ((self.n_vertices - 2)\n",
    "                          * (180 / self.n_vertices))\n",
    "        return interior_angle\n",
    "    \n",
    "    def __eq__(self, other):\n",
    "        if isinstance(other, Polygon):\n",
    "            return (self.n_vertices == other.n_vertices\n",
    "                    and self.circumradius == other.circumradius)\n",
    "        else:\n",
    "            return NotImplemented\n",
    "\n",
    "    def __gt__(self, other):\n",
    "        if isinstance(other, Polygon):\n",
    "            return self.n_vertices > other.n_vertices\n",
    "        else:\n",
    "            return NotImplemented"
   ]
  },
  {
   "cell_type": "code",
   "execution_count": 3,
   "metadata": {},
   "outputs": [],
   "source": [
    "def test_polygon():\n",
    "    rel_tol = 0.001\n",
    "    abs_tol = 0.001\n",
    "\n",
    "    try:\n",
    "        p = Polygon(1, 10)\n",
    "        assert False\n",
    "    except ValueError:\n",
    "        pass\n",
    "    \n",
    "    n_vertices = 3\n",
    "    circumradius = 1\n",
    "    p = Polygon(n_vertices, circumradius)\n",
    "    assert str(p) == f'Polygon(n_vertices=3, circumradius=1)', f'actual: {str(p)}'\n",
    "    assert p.n_vertices == n_vertices, (f'actual: {p.n_vertices}, '\n",
    "                                        f' expected: {n_vertices}')\n",
    "    assert p.n_edges == n_vertices, (f'actual: {p.n_edges}, '\n",
    "                                     f' expected: {n_vertices}')\n",
    "    assert p.circumradius == circumradius , (f'actual: {p.circumradius}, '\n",
    "                                             f' expected: {circumradius}')\n",
    "    assert math.isclose(p.interior_angle(), 60,\n",
    "                        rel_tol=rel_tol,\n",
    "                        abs_tol=abs_tol), (f'actual: {p.interior_angle()}, '\n",
    "                                           f' expected: {60}')\n",
    "    \n",
    "    n_vertices = 4\n",
    "    circumradius = 1\n",
    "    p = Polygon(n_vertices, circumradius)\n",
    "    assert math.isclose(p.interior_angle(), 90,\n",
    "                        rel_tol=rel_tol,\n",
    "                        abs_tol=abs_tol), (f'actual: {p.interior_angle()}, '\n",
    "                                           f' expected: {90}')\n",
    "    assert math.isclose(p.surface_area(), 2.0,\n",
    "                        rel_tol=rel_tol,\n",
    "                        abs_tol=abs_tol), (f'actual: {p.surface_area()}, '\n",
    "                                           f' expected: {2.0}')\n",
    "    assert math.isclose(p.edge_len(), math.sqrt(2),\n",
    "                       rel_tol=rel_tol,\n",
    "                       abs_tol=abs_tol), (f'actual: {p.edge_len()}, '\n",
    "                                          f' expected: {math.sqrt(2)}')\n",
    "    assert math.isclose(p.perimeter(), 4 * math.sqrt(2),\n",
    "                        rel_tol=rel_tol,\n",
    "                        abs_tol=abs_tol), (f'actual: {p.perimeter()}, '\n",
    "                                           f' expected: {4 * math.sqrt(2)}')\n",
    "    assert math.isclose(p.apothem(), 0.707,\n",
    "                        rel_tol=rel_tol,\n",
    "                        abs_tol=abs_tol), (f'actual: {p.apothem()}, '\n",
    "                                           f' expected: {0.707}')\n",
    "\n",
    "    n_vertices = 6\n",
    "    circumradius = 2\n",
    "    p = Polygon(n_vertices, circumradius)\n",
    "    assert math.isclose(p.interior_angle(), 120,\n",
    "                        rel_tol=rel_tol,\n",
    "                        abs_tol=abs_tol), (f'actual: {p.interior_angle()}, '\n",
    "                                           f' expected: {120}')\n",
    "    assert math.isclose(p.surface_area(), 10.3923,\n",
    "                        rel_tol=rel_tol,\n",
    "                        abs_tol=abs_tol), (f'actual: {p.surface_area()}, '\n",
    "                                           f' expected: {10.3923}')\n",
    "    assert math.isclose(p.edge_len(), 2.0,\n",
    "                       rel_tol=rel_tol,\n",
    "                       abs_tol=abs_tol), (f'actual: {p.edge_len()}, '\n",
    "                                          f' expected: {2.0}')\n",
    "    assert math.isclose(p.perimeter(), 12.0,\n",
    "                        rel_tol=rel_tol,\n",
    "                        abs_tol=abs_tol), (f'actual: {p.perimeter()}, '\n",
    "                                           f' expected: {12.0}')\n",
    "    assert math.isclose(p.apothem(), 1.73205,\n",
    "                        rel_tol=rel_tol,\n",
    "                        abs_tol=abs_tol), (f'actual: {p.apothem()}, '\n",
    "                                           f' expected: {1.73205}')\n",
    "\n",
    "    n_vertices = 12\n",
    "    circumradius = 3\n",
    "    p = Polygon(n_vertices, circumradius)\n",
    "    assert math.isclose(p.interior_angle(), 150,\n",
    "                        rel_tol=rel_tol,\n",
    "                        abs_tol=abs_tol), (f'actual: {p.interior_angle()}, '\n",
    "                                           f' expected: {150}')\n",
    "    assert math.isclose(p.surface_area(), 27,\n",
    "                        rel_tol=rel_tol,\n",
    "                        abs_tol=abs_tol), (f'actual: {p.surface_area()}, '\n",
    "                                           f' expected: {27}')\n",
    "    assert math.isclose(p.edge_len(), 1.55291,\n",
    "                       rel_tol=rel_tol,\n",
    "                       abs_tol=abs_tol), (f'actual: {p.edge_len()}, '\n",
    "                                          f' expected: {1.55291}')\n",
    "    assert math.isclose(p.perimeter(), 18.635,\n",
    "                        rel_tol=rel_tol,\n",
    "                        abs_tol=abs_tol), (f'actual: {p.perimeter()}, '\n",
    "                                           f' expected: {18.635}')\n",
    "    assert math.isclose(p.apothem(), 2.89778,\n",
    "                        rel_tol=rel_tol,\n",
    "                        abs_tol=abs_tol), (f'actual: {p.apothem()}, '\n",
    "                                           f' expected: {2.89778}')\n",
    "\n",
    "    p1 = Polygon(3, 100)\n",
    "    p2 = Polygon(10, 10)\n",
    "    p3 = Polygon(15, 10)\n",
    "    p4 = Polygon(15, 100)\n",
    "    p5 = Polygon(15, 100)\n",
    "\n",
    "    assert p2 > p1\n",
    "    assert p2 < p3\n",
    "    assert p3 != p4\n",
    "    assert p1 != p4\n",
    "    assert p4 == p5"
   ]
  },
  {
   "cell_type": "code",
   "execution_count": 4,
   "metadata": {},
   "outputs": [],
   "source": [
    "test_polygon()"
   ]
  },
  {
   "cell_type": "markdown",
   "metadata": {},
   "source": [
    "##### Goal 2"
   ]
  },
  {
   "cell_type": "markdown",
   "metadata": {},
   "source": [
    "Create a finite sequence type that is a sequence of Polygons start with `3` vertices, up to, and including some maximum value `m` which will need to be passed to the initializer of the sequence type.\n",
    "\n",
    "The value for the circumradius `R`, will also need to be provided to the initializer.\n",
    "\n",
    "Again make sure you test your code!"
   ]
  },
  {
   "cell_type": "code",
   "execution_count": 11,
   "metadata": {},
   "outputs": [],
   "source": [
    "class Polygons:\n",
    "\n",
    "    def __init__(self, max_vertices, circumradius):\n",
    "        if max_vertices < 3:\n",
    "            raise ValueError('The max number of vertices must be at least 3.')\n",
    "        else:\n",
    "            self.max_vertices = max_vertices\n",
    "            self.circumradius = circumradius\n",
    "            self.polygons = [Polygon(n_vertices, circumradius) for n_vertices in range(3, max_vertices+1)]\n",
    "\n",
    "    def __repr__(self):\n",
    "        return f'Polygons(max_vertices={self.max_vertices}, circumradius={self.circumradius})'\n",
    "    \n",
    "    def __len__(self):\n",
    "        return self.max_vertices - 2\n",
    "    \n",
    "    def __getitem__(self, value):\n",
    "        return self.polygons[value]\n",
    "    \n",
    "    def max_efficiency(self):\n",
    "        efficiencies = [polygon.surface_area()/polygon.perimeter() for polygon in self.polygons]\n",
    "        max_efficiency = max(efficiencies)\n",
    "        return self.polygons[efficiencies.index(max_efficiency)]"
   ]
  },
  {
   "cell_type": "code",
   "execution_count": 43,
   "metadata": {},
   "outputs": [],
   "source": [
    "def test_polygons():\n",
    "    try:\n",
    "        p = Polygons(1, 10)\n",
    "        assert False\n",
    "    except ValueError:\n",
    "        pass\n",
    "\n",
    "    max_vertices = 10\n",
    "    circumradius = 2\n",
    "    p = Polygons(max_vertices, circumradius)\n",
    "    assert p.max_vertices == max_vertices, (f'actual: {p.max_vertices}, '\n",
    "                                            f'expected: {max_vertices}')\n",
    "    assert p.circumradius == circumradius, (f'actual: {p.circumradius}, '\n",
    "                                            f' expected: {circumradius}')\n",
    "    assert p.polygons == [Polygon(n_vertices, circumradius) for n_vertices in range(3, max_vertices+1)], \\\n",
    "           (f'actual: {p.polygons}, '\n",
    "            f'expected: {[Polygon(n_vertices, circumradius) for n_vertices in range(3, max_vertices+1)]}')\n",
    "    \n",
    "    assert len(p) == 8, (f'actual: {len(p)}, '\n",
    "                         f'expected: {8}')\n",
    "    \n",
    "    assert p[0] == Polygon(3, 2), (f'actual: {p[0]}, '\n",
    "                                   f'expected: {Polygon(3, 2)}')\n",
    "    assert p[-1] == Polygon(10, 2), (f'actual: {p[-1]}, '\n",
    "                                     f'expected: {Polygon(10, 2)}')"
   ]
  },
  {
   "cell_type": "code",
   "execution_count": 44,
   "metadata": {},
   "outputs": [],
   "source": [
    "test_polygons()"
   ]
  },
  {
   "cell_type": "code",
   "execution_count": 45,
   "metadata": {},
   "outputs": [],
   "source": [
    "p = Polygons(9, 2)"
   ]
  },
  {
   "cell_type": "code",
   "execution_count": 46,
   "metadata": {},
   "outputs": [
    {
     "data": {
      "text/plain": [
       "Polygon(n_vertices=9, circumradius=2)"
      ]
     },
     "execution_count": 46,
     "metadata": {},
     "output_type": "execute_result"
    }
   ],
   "source": [
    "p.max_efficiency()"
   ]
  },
  {
   "cell_type": "code",
   "execution_count": 47,
   "metadata": {},
   "outputs": [
    {
     "data": {
      "text/plain": [
       "[(Polygon(n_vertices=3, circumradius=2), 0.5000000000000001),\n",
       " (Polygon(n_vertices=4, circumradius=2), 0.7071067811865476),\n",
       " (Polygon(n_vertices=5, circumradius=2), 0.8090169943749475),\n",
       " (Polygon(n_vertices=6, circumradius=2), 0.8660254037844386),\n",
       " (Polygon(n_vertices=7, circumradius=2), 0.9009688679024191),\n",
       " (Polygon(n_vertices=8, circumradius=2), 0.9238795325112868),\n",
       " (Polygon(n_vertices=9, circumradius=2), 0.9396926207859085)]"
      ]
     },
     "execution_count": 47,
     "metadata": {},
     "output_type": "execute_result"
    }
   ],
   "source": [
    "[(polygon, polygon.surface_area()/polygon.perimeter()) for polygon in p]"
   ]
  }
 ],
 "metadata": {
  "kernelspec": {
   "display_name": "Python 3",
   "language": "python",
   "name": "python3"
  },
  "language_info": {
   "codemirror_mode": {
    "name": "ipython",
    "version": 3
   },
   "file_extension": ".py",
   "mimetype": "text/x-python",
   "name": "python",
   "nbconvert_exporter": "python",
   "pygments_lexer": "ipython3",
   "version": "3.7.3"
  }
 },
 "nbformat": 4,
 "nbformat_minor": 2
}
